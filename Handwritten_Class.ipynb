{
 "cells": [
  {
   "cell_type": "code",
   "execution_count": 1,
   "metadata": {},
   "outputs": [],
   "source": [
    "#Importing the necessary modules\n",
    "import numpy as np \n",
    "import tensorflow as tf \n",
    "from keras import layers, models\n",
    "\n",
    "# Importing the MNIST dataset\n",
    "from keras.datasets import mnist\n",
    "\n",
    "from keras.utils import to_categorical\n",
    "from sklearn.metrics import classification_report\n",
    "import matplotlib.pyplot as plt \n",
    "import matplotlib as mt "
   ]
  },
  {
   "cell_type": "code",
   "execution_count": 2,
   "metadata": {},
   "outputs": [],
   "source": [
    "# Load and preprocess the MNIST dataset\n",
    "(train_images, train_labels), (test_images, test_labels) = mnist.load_data()\n",
    "train_images = train_images.reshape((60000, 28, 28, 1)).astype('float32') / 255\n",
    "test_images = test_images.reshape((10000, 28, 28, 1)).astype('float32') / 255\n",
    "train_labels = to_categorical(train_labels)\n",
    "test_labels = to_categorical(test_labels)"
   ]
  },
  {
   "cell_type": "code",
   "execution_count": 3,
   "metadata": {},
   "outputs": [],
   "source": [
    "# Building a convolutional neural network (CNN) \n",
    "model = models.Sequential()\n",
    "model.add(layers.Conv2D(32, (3, 3), activation='relu', input_shape=(28, 28, 1)))\n",
    "model.add(layers.MaxPooling2D((2, 2)))\n",
    "model.add(layers.Conv2D(64, (3, 3), activation='relu'))\n",
    "model.add(layers.MaxPooling2D((2, 2)))\n",
    "model.add(layers.Conv2D(64, (3, 3), activation='relu'))\n",
    "model.add(layers.Flatten())\n",
    "model.add(layers.Dense(64, activation='relu'))\n",
    "model.add(layers.Dense(10, activation='softmax'))"
   ]
  },
  {
   "cell_type": "code",
   "execution_count": 4,
   "metadata": {},
   "outputs": [],
   "source": [
    "# Compiling the model\n",
    "model.compile(\n",
    "    optimizer='adam',\n",
    "    loss='categorical_crossentropy',\n",
    "    metrics=['accuracy']\n",
    ")"
   ]
  },
  {
   "cell_type": "code",
   "execution_count": 5,
   "metadata": {},
   "outputs": [
    {
     "name": "stdout",
     "output_type": "stream",
     "text": [
      "Epoch 1/5\n",
      "750/750 [==============================] - 20s 24ms/step - loss: 0.2160 - accuracy: 0.9345 - val_loss: 0.0809 - val_accuracy: 0.9761\n",
      "Epoch 2/5\n",
      "750/750 [==============================] - 28s 37ms/step - loss: 0.0630 - accuracy: 0.9800 - val_loss: 0.0524 - val_accuracy: 0.9847\n",
      "Epoch 3/5\n",
      "750/750 [==============================] - 70s 94ms/step - loss: 0.0442 - accuracy: 0.9860 - val_loss: 0.0458 - val_accuracy: 0.9862\n",
      "Epoch 4/5\n",
      "750/750 [==============================] - 49s 66ms/step - loss: 0.0341 - accuracy: 0.9887 - val_loss: 0.0413 - val_accuracy: 0.9882\n",
      "Epoch 5/5\n",
      "750/750 [==============================] - 24s 32ms/step - loss: 0.0269 - accuracy: 0.9917 - val_loss: 0.0431 - val_accuracy: 0.9866\n",
      "313/313 [==============================] - 2s 7ms/step\n",
      "313/313 [==============================] - 2s 8ms/step - loss: 0.0361 - accuracy: 0.9881\n"
     ]
    }
   ],
   "source": [
    "# Training and evaluating the model\n",
    "model.fit(train_images, train_labels, epochs=5, batch_size=64, validation_split=0.2)\n",
    "predictions = model.predict(test_images)\n",
    "test_loss, test_acc = model.evaluate(test_images, test_labels)"
   ]
  },
  {
   "cell_type": "code",
   "execution_count": 6,
   "metadata": {},
   "outputs": [],
   "source": [
    "# Converting predictions into categorical data\n",
    "predicted_labels = tf.argmax(predictions, axis=1)\n",
    "true_labels = tf.argmax(test_labels, axis=1)"
   ]
  },
  {
   "cell_type": "code",
   "execution_count": 7,
   "metadata": {},
   "outputs": [
    {
     "name": "stdout",
     "output_type": "stream",
     "text": [
      "Classification Report:\n",
      "              precision    recall  f1-score   support\n",
      "\n",
      "           0       0.99      1.00      0.99       980\n",
      "           1       1.00      0.99      0.99      1135\n",
      "           2       0.99      0.99      0.99      1032\n",
      "           3       0.96      1.00      0.98      1010\n",
      "           4       1.00      0.99      0.99       982\n",
      "           5       0.99      0.98      0.99       892\n",
      "           6       1.00      0.98      0.99       958\n",
      "           7       0.99      0.98      0.99      1028\n",
      "           8       0.98      0.99      0.99       974\n",
      "           9       0.99      0.98      0.99      1009\n",
      "\n",
      "    accuracy                           0.99     10000\n",
      "   macro avg       0.99      0.99      0.99     10000\n",
      "weighted avg       0.99      0.99      0.99     10000\n",
      "\n",
      "Test accuracy: 98%\n"
     ]
    }
   ],
   "source": [
    "# Displaying classification report and accuracy\n",
    "print('Classification Report:')\n",
    "print(classification_report(true_labels, predicted_labels))\n",
    "print(f'Test accuracy: {int(test_acc*100)}%')"
   ]
  },
  {
   "cell_type": "code",
   "execution_count": 8,
   "metadata": {},
   "outputs": [
    {
     "data": {
      "image/png": "[encoded data removed]",
      "text/plain": [
       "<Figure size 640x480 with 1 Axes>"
      ]
     },
     "metadata": {},
     "output_type": "display_data"
    }
   ],
   "source": [
    "num = int(input('Enter a number between 1 and 70000: '))\n",
    "some_digit = train_images[num]\n",
    "some_digit_image = some_digit.reshape(28, 28)\n",
    "plt.imshow(some_digit_image, cmap=mt.cm.binary, interpolation='nearest')\n",
    "plt.axis('off')\n",
    "plt.show()"
   ]
  }
 ],
 "metadata": {
  "kernelspec": {
   "display_name": "Python 3",
   "language": "python",
   "name": "python3"
  },
  "language_info": {
   "codemirror_mode": {
    "name": "ipython",
    "version": 3
   },
   "file_extension": ".py",
   "mimetype": "text/x-python",
   "name": "python",
   "nbconvert_exporter": "python",
   "pygments_lexer": "ipython3",
   "version": "3.11.5"
  }
 },
 "nbformat": 4,
 "nbformat_minor": 2
}
